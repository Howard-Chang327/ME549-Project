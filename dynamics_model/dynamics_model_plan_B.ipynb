{
 "cells": [
  {
   "cell_type": "code",
   "execution_count": 3,
   "metadata": {},
   "outputs": [],
   "source": [
    "import numpy as np\n",
    "control_sequences = np.random.uniform(low=0.0, high=1.0, size=(100,3))"
   ]
  },
  {
   "cell_type": "code",
   "execution_count": 4,
   "metadata": {},
   "outputs": [
    {
     "data": {
      "application/vnd.jupyter.widget-view+json": {
       "model_id": "96055ccd1ab84c098bca3aa7e2fe3c29",
       "version_major": 2,
       "version_minor": 0
      },
      "text/plain": [
       "interactive(children=(IntSlider(value=1, description='t', max=1000, min=1), Output()), _dom_classes=('widget-i…"
      ]
     },
     "metadata": {},
     "output_type": "display_data"
    },
    {
     "data": {
      "text/plain": [
       "<function __main__.interact_plot_traj(time_steps)>"
      ]
     },
     "execution_count": 4,
     "metadata": {},
     "output_type": "execute_result"
    }
   ],
   "source": [
    "import numpy as np\n",
    "import matplotlib.pyplot as plt\n",
    "from mpl_toolkits.mplot3d import Axes3D\n",
    "from ipywidgets import interact, IntSlider\n",
    "from functools import partial\n",
    "\n",
    "\n",
    "# System parameters(currently not using)\n",
    "m = 1.0    # Mass of the aircraft or rocket\n",
    "I = 1.0    # Moment of inertia about the center of mass\n",
    "R = 1.0    # Radius of the vehicle's wheel\n",
    "\n",
    "# Simulation parameters\n",
    "dt = 0.1    # Time step\n",
    "T = 100     # Total simulation time\n",
    "#steps\n",
    "t = np.arange(0, T, dt)\n",
    "\n",
    "# Initial state\n",
    "x0 = np.array([0.0, 0.0, 0.0, 0.0, 0.0, 0.0])  # [x, y, z, theta, psi, v]\n",
    "\n",
    "#fixed control sequence\n",
    "control_fixed = np.zeros((len(t),3))\n",
    "#random control sequence\n",
    "control_random = np.random.uniform(low=-1.0, high=1.0, size=(len(t), 3))  # [p, q, a]\n",
    "\n",
    "\n",
    "def plot_traj(time_steps,initial_state,controls):\n",
    "# def plot_traj(initial_state,time_steps,control):    \n",
    "\n",
    "    x = np.zeros((time_steps, len(initial_state)))\n",
    "\n",
    "    x[0] = initial_state\n",
    "\n",
    "    for i in range(time_steps):\n",
    "        # Extract state variables\n",
    "        x_prev = x[i-1]\n",
    "        control = controls[i-1]\n",
    "\n",
    "        x_pos = x_prev[:3]\n",
    "        theta = x_prev[3]\n",
    "        phi = x_prev[4]\n",
    "        v = x_prev[5]\n",
    "\n",
    "        \n",
    "        # Compute state derivatives\n",
    "        x_dot = np.array([\n",
    "            v * np.cos(phi) * np.cos(theta),\n",
    "            v * np.cos(phi) * np.sin(theta),\n",
    "            v * np.sin(phi),\n",
    "            control[0],\n",
    "            control[1],\n",
    "            control[2]\n",
    "        ])\n",
    "\n",
    "        # Update state using Euler integration\n",
    "        x[i] = x_prev + x_dot * dt\n",
    "\n",
    "    # Plotting the trajectory\n",
    "    fig = plt.figure()\n",
    "    ax = fig.add_subplot(111, projection='3d')\n",
    "    ax.plot(x[:, 0], x[:, 1], x[:, 2])\n",
    "    ax.set_xlabel('X')\n",
    "    ax.set_ylabel('Y')\n",
    "    ax.set_zlabel('Z')\n",
    "\n",
    "    ax.set_xlim([-50, 50])\n",
    "    ax.set_ylim([-50, 50])\n",
    "    ax.set_zlim([-50, 50])\n",
    "\n",
    "    ax.set_title('Trajectory')\n",
    "    plt.show()\n",
    "\n",
    "\n",
    "\n",
    "t_slider = IntSlider(min=1, max=len(t), step=1, value=1, description='t')\n",
    "\n",
    "\n",
    "\n",
    "# Define the interaction function\n",
    "def interact_plot_traj(time_steps):\n",
    "    plot_traj(time_steps, x0, control_random)\n",
    "    \n",
    "    \n",
    "\n",
    "# Create the interactive plot\n",
    "interact(interact_plot_traj,time_steps = t_slider)\n"
   ]
  },
  {
   "cell_type": "code",
   "execution_count": 1,
   "metadata": {},
   "outputs": [
    {
     "data": {
      "application/vnd.jupyter.widget-view+json": {
       "model_id": "70d6b7fc52f04d329c7133e80be64e01",
       "version_major": 2,
       "version_minor": 0
      },
      "text/plain": [
       "interactive(children=(IntSlider(value=1, description='t', max=1000, min=1), Output()), _dom_classes=('widget-i…"
      ]
     },
     "metadata": {},
     "output_type": "display_data"
    },
    {
     "data": {
      "text/plain": [
       "<function __main__.interact_plot_traj(time_steps)>"
      ]
     },
     "execution_count": 1,
     "metadata": {},
     "output_type": "execute_result"
    }
   ],
   "source": [
    "import numpy as np\n",
    "import matplotlib.pyplot as plt\n",
    "from mpl_toolkits.mplot3d import Axes3D\n",
    "from ipywidgets import interact, IntSlider\n",
    "from functools import partial\n",
    "\n",
    "\n",
    "# System parameters(currently not using)\n",
    "m = 1.0    # Mass of the aircraft or rocket\n",
    "I = 1.0    # Moment of inertia about the center of mass\n",
    "R = 1.0    # Radius of the vehicle's wheel\n",
    "\n",
    "# Simulation parameters\n",
    "dt = 0.1    # Time step\n",
    "T = 100     # Total simulation time\n",
    "#steps\n",
    "t = np.arange(0, T, dt)\n",
    "\n",
    "# Initial state\n",
    "x0 = np.array([0.0, 0.0, 0.0, 0.0, 0.0, 0.0])  # [x, y, z, x_dot, y_dot, z_dot]\n",
    "\n",
    "#fixed control sequence\n",
    "control_fixed = np.zeros((len(t),3))\n",
    "#random control sequence\n",
    "control_random = np.random.uniform(low=-1.0, high=1.0, size=(len(t), 3))  # [x_ddot, y_ddot, z_ddot]\n",
    "\n",
    "\n",
    "def plot_traj(time_steps,initial_state,controls):\n",
    "# def plot_traj(initial_state,time_steps,control):    \n",
    "\n",
    "    x = np.zeros((time_steps, len(initial_state)))\n",
    "\n",
    "    x[0] = initial_state\n",
    "\n",
    "    for i in range(time_steps):\n",
    "        # Extract state variables\n",
    "        x_prev = x[i-1]\n",
    "        control = controls[i-1]\n",
    "\n",
    "        x_pos = x_prev[:3]\n",
    "        x_vel = x_prev[3:6]\n",
    "\n",
    "        \n",
    "        # Compute state derivatives\n",
    "        x_dot = np.array([\n",
    "            x_vel[0],\n",
    "            x_vel[1],\n",
    "            x_vel[2],\n",
    "            control[0],\n",
    "            control[1],\n",
    "            control[2]\n",
    "        ])\n",
    "\n",
    "        # Update state using Euler integration\n",
    "        x[i] = x_prev + x_dot * dt\n",
    "\n",
    "    # Plotting the trajectory\n",
    "    fig = plt.figure()\n",
    "    ax = fig.add_subplot(111, projection='3d')\n",
    "    ax.plot(x[:, 0], x[:, 1], x[:, 2])\n",
    "    ax.set_xlabel('X')\n",
    "    ax.set_ylabel('Y')\n",
    "    ax.set_zlabel('Z')\n",
    "\n",
    "    ax.set_xlim([-50, 50])\n",
    "    ax.set_ylim([-50, 50])\n",
    "    ax.set_zlim([-50, 50])\n",
    "\n",
    "    ax.set_title('Trajectory')\n",
    "    plt.show()\n",
    "\n",
    "\n",
    "\n",
    "t_slider = IntSlider(min=1, max=len(t), step=1, value=1, description='t')\n",
    "\n",
    "\n",
    "\n",
    "# Define the interaction function\n",
    "def interact_plot_traj(time_steps):\n",
    "    plot_traj(time_steps, x0, control_random)\n",
    "    \n",
    "    \n",
    "\n",
    "# Create the interactive plot\n",
    "interact(interact_plot_traj,time_steps = t_slider)\n"
   ]
  }
 ],
 "metadata": {
  "kernelspec": {
   "display_name": "base",
   "language": "python",
   "name": "python3"
  },
  "language_info": {
   "codemirror_mode": {
    "name": "ipython",
    "version": 3
   },
   "file_extension": ".py",
   "mimetype": "text/x-python",
   "name": "python",
   "nbconvert_exporter": "python",
   "pygments_lexer": "ipython3",
   "version": "3.9.13"
  },
  "orig_nbformat": 4
 },
 "nbformat": 4,
 "nbformat_minor": 2
}
