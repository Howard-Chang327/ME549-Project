{
 "cells": [
  {
   "cell_type": "code",
   "execution_count": 285,
   "metadata": {},
   "outputs": [],
   "source": [
    "import numpy as np\n",
    "import jax\n",
    "import jax.numpy as jnp\n",
    "from matplotlib import pyplot as plt\n",
    "import matplotlib.animation as animation\n",
    "import math\n",
    "from jax.typing import ArrayLike\n",
    "import IPython.display\n",
    "import time\n",
    "\n",
    "\n",
    "class BasePlanarQuadrotor:\n",
    "\n",
    "    def __init__(self):\n",
    "        # Dynamics constants\n",
    "        # yapf: disable\n",
    "        self.x_dim = 6         # state dimension (see dynamics below)\n",
    "        self.u_dim = 2         # control dimension (see dynamics below)\n",
    "        self.g = 9.807         # gravity (m / s**2)\n",
    "        self.m = 2.5           # mass (kg)\n",
    "        self.l = 1.0           # half-length (m)\n",
    "        self.Iyy = 1.0         # moment of inertia about the out-of-plane axis (kg * m**2)\n",
    "        self.Cd_v = 0.25       # translational drag coefficient\n",
    "        self.Cd_phi = 0.02255  # rotational drag coefficient\n",
    "        # yapf: enable\n",
    "\n",
    "        # Control constraints\n",
    "        self.max_thrust_per_prop = 0.75 * self.m * self.g  # total thrust-to-weight ratio = 1.5\n",
    "        self.min_thrust_per_prop = 0  # at least until variable-pitch quadrotors become mainstream :D\n",
    "\n",
    "    def ode(self, state, control, np=jnp):\n",
    "        \"\"\"Continuous-time dynamics of a planar quadrotor expressed as an ODE.\"\"\"\n",
    "        x, v_x, y, v_y, phi, omega = state\n",
    "        T_1, T_2 = control\n",
    "        return np.array([\n",
    "            v_x,\n",
    "            (-(T_1 + T_2) * np.sin(phi) - self.Cd_v * v_x) / self.m,\n",
    "            v_y,\n",
    "            ((T_1 + T_2) * np.cos(phi) - self.Cd_v * v_y) / self.m - self.g,\n",
    "            omega,\n",
    "            ((T_2 - T_1) * self.l - self.Cd_phi * omega) / self.Iyy,\n",
    "        ])\n",
    "\n",
    "    def discrete_step(self, state, control, dt, np=jnp):\n",
    "        \"\"\"Discrete-time dynamics (Euler-integrated) of a planar quadrotor.\"\"\"\n",
    "        # RK4 would be more accurate, but this runs more quickly in a homework problem;\n",
    "        # in this notebook we use Euler integration for both control and simulation for\n",
    "        # illustrative purposes (i.e., so that planning and simulation match exactly).\n",
    "        # Often simulation may use higher fidelity models than those used for planning/\n",
    "        # control, e.g., using `scipy.integrate.odeint` here for much more accurate\n",
    "        # (and expensive) integration.\n",
    "        return state + dt * self.ode(state, control, np)\n",
    "    \n",
    "    def jacobian(self, state, control):\n",
    "        \"\"\"Jacobian matrix for the discrete-time dynamics.\"\"\"\n",
    "        x, v_x, y, v_y, phi, omega = state\n",
    "        T_1, T_2 = control\n",
    "        return np.array([\n",
    "            [0, 1, 0, 0, 0, 0],\n",
    "            [0, -self.Cd_v / self.m, 0, 0, -(T_1 + T_2) * np.cos(phi) / self.m, 0],\n",
    "            [0, 0, 0, 1, 0, 0],\n",
    "            [0, 0, 0, -self.Cd_v / self.m, -(T_1 + T_2) * np.sin(phi) / self.m, 0],\n",
    "            [0, 0, 0, 0, 0, 1],\n",
    "            [0, 0, 0, 0, 0, -self.Cd_phi / self.Iyy]\n",
    "        ])\n",
    "    \n",
    "class LinearizeDynamics:\n",
    "    def __init__(self,dis_dyn,state,control,dt):\n",
    "        self.dyn = dis_dyn\n",
    "        self.state = state\n",
    "        self.control = control\n",
    "        self.dt = dt\n",
    "\n",
    "        self.A = jax.jacfwd(self.dyn,argnums=0)(self.state,self.control,self.dt)\n",
    "        self.B = jax.jacfwd(self.dyn,argnums=1)(self.state,self.control,self.dt)\n",
    "        self.C = self.dyn(self.state,self.control,self.dt) -self.A@self.state -self.B@self.control\n",
    "        \n",
    "    def ld_dyn(self):\n",
    "        return self.A@self.state + self.B@self.control + self.C\n",
    "    \n",
    "    def get_A(self):\n",
    "        return self.A\n",
    "    \n",
    "    def get_B(self):\n",
    "        return self.B\n",
    "    \n",
    "    def get_C(self):\n",
    "        return self.C\n",
    "\n"
   ]
  },
  {
   "cell_type": "code",
   "execution_count": 287,
   "metadata": {},
   "outputs": [
    {
     "name": "stdout",
     "output_type": "stream",
     "text": [
      "[[ 0.         1.         0.         0.         0.         0.       ]\n",
      " [-0.        -0.1       -0.        -0.        -3.4039464 -0.       ]\n",
      " [ 0.         0.         0.         1.         0.         0.       ]\n",
      " [ 0.         0.         0.        -0.1       11.5070915  0.       ]\n",
      " [ 0.         0.         0.         0.         0.         1.       ]\n",
      " [-0.        -0.        -0.        -0.        -0.        -0.02255  ]]\n",
      "[[ 0.          1.          0.          0.          0.          0.        ]\n",
      " [ 0.         -0.1         0.          0.         -3.40394623  0.        ]\n",
      " [ 0.          0.          0.          1.          0.          0.        ]\n",
      " [ 0.          0.          0.         -0.1        11.5070913   0.        ]\n",
      " [ 0.          0.          0.          0.          0.          1.        ]\n",
      " [ 0.          0.          0.          0.          0.         -0.02255   ]]\n"
     ]
    }
   ],
   "source": [
    "s = np.array([1,2,3,4,5,6],dtype = float)\n",
    "u = np.array([10,20],dtype=float)\n",
    "planar_quad = BasePlanarQuadrotor()\n",
    "print(jax.jacfwd(planar_quad.ode,argnums=0)(s,u))\n",
    "\n",
    "print(planar_quad.jacobian(s,u))"
   ]
  },
  {
   "cell_type": "code",
   "execution_count": 307,
   "metadata": {},
   "outputs": [],
   "source": [
    "def generate_deterministic_states_and_measurement(N, H:ArrayLike, dt, initial_state, controls): #no disturbance\n",
    "    \n",
    "    states = np.zeros((N+1, 6))\n",
    "    states[0] = initial_state\n",
    "    \n",
    "    measurememts = np.zeros((N+1,H.shape[0]))\n",
    "    measurememts[0] = H @ initial_state \n",
    "    \n",
    "    \n",
    "    for i in range(N):\n",
    "        states[i+1] = planar_quad.discrete_step(states[i], controls[i], dt)\n",
    "        measurememts[i+1] = H @ states[i+1]\n",
    "        # print(f\"{i}th angle\", math.degrees(states[i+1][4]))\n",
    "\n",
    "    return states,measurememts\n",
    "\n",
    "def add_gaussian_noise(states,mu:ArrayLike,sigma:ArrayLike):\n",
    "    m,n = states.shape\n",
    "    \n",
    "    for i in range(len(states)):\n",
    "        error = np.sqrt(sigma) @ np.random.randn(n) + mu\n",
    "        # print(error)\n",
    "        states[i] = states[i] + error \n",
    "\n",
    "    return states\n",
    "\n",
    "def EKF(control_sequence,mu,sigma,Q,H,R,N,dt):\n",
    "    '''\n",
    "    1. if add v and w in the dynamics, it will crash.\n",
    "    2. how do we deal with the C term? it's not introduced in the KF framework.\n",
    "    3. when setting covariance too small, it will generate problems\n",
    "    '''\n",
    "    m, n = H.shape #H: R^(3*6)  = y_shape * x_shape\n",
    "    X_hat = np.zeros((N,n)) #estimated state\n",
    "    P = np.zeros((N,n,n)) \n",
    "\n",
    "    v = np.sqrt(Q)@np.random.randn(n)\n",
    "    w = np.sqrt(R)@np.random.randn(m)\n",
    "\n",
    "    X = np.zeros((N,n))  #updated by linearized dynamics\n",
    "    Y = np.zeros((N,m))\n",
    "    \n",
    "    X[0] = mu #+ np.sqrt(sigma)@np.random.randn(n)\n",
    "    # X[0] = mu + np.sqrt(sigma)@np.random.randn(n)\n",
    "\n",
    "    # Y[0] = H@initial_state  #Do we need to initialize anything?\n",
    "\n",
    "    X_hat[0] = mu #initialize mean\n",
    "    P[0] = sigma #initialize covariance matrix\n",
    "\n",
    "    for i in range(N-1):\n",
    "        #get linearized A and B at each point\n",
    "        lin_dyn = LinearizeDynamics(planar_quad.discrete_step,X[i],control_sequence[i],dt)  ####now linearize at X#####\n",
    "\n",
    "        A = lin_dyn.get_A()\n",
    "        B = lin_dyn.get_B()\n",
    "        C = lin_dyn.get_C()\n",
    "        X[i+1] = lin_dyn.ld_dyn() + v\n",
    "        Y[i+1] = H@X[i+1] + w\n",
    "        # X[i+1] = lin_dyn.ld_dyn()\n",
    "        # Y[i+1] = H@X[i+1]\n",
    "\n",
    "        Xhat_pred = A@X_hat[i] + B @ control_sequence[i] + C\n",
    "        P_pred = A@P[i]@A.T \n",
    "        S = H@P[i]@H.T + R\n",
    "        S_inv = np.linalg.inv(S)  \n",
    "        K = P_pred@H.T@S_inv\n",
    "        X_hat[i+1] = Xhat_pred + K@(Y[i+1]-H@Xhat_pred)\n",
    "        P[i+1] = P_pred - K@S@K.T\n",
    "    \n",
    "    return X_hat,X\n"
   ]
  },
  {
   "cell_type": "code",
   "execution_count": 291,
   "metadata": {},
   "outputs": [],
   "source": [
    "#plotting\n",
    "\n",
    "def plot_traj(state_sequence): #input a N*6*1 matrix, will prinit out as animation\n",
    "    N = len(state_sequence)\n",
    "\n",
    "    plt.figure()\n",
    "    plt.xlabel('X')\n",
    "    plt.ylabel('Y')\n",
    "    plt.title('Trajectory')\n",
    "\n",
    "    # def roataion_mat(angle,vector):  #counter clockwise rotation\n",
    "    #     return np.array([[np.cos(angle),-np.sin(angle)],\n",
    "    #                      [np.sin(angle), np.cos(angle)]])  @ vector \n",
    "    \n",
    "    def rotaion(angle, vector):  # counter-clockwise rotation\n",
    "        rotation_matrix = np.array([[np.cos(angle), -np.sin(angle)],\n",
    "                                  [np.sin(angle), np.cos(angle)]])\n",
    "        return rotation_matrix @ vector\n",
    "\n",
    "    for i in range(N):\n",
    "        plt.plot(state_sequence[:i+1, 0], state_sequence[:i+1, 2])\n",
    "         \n",
    "        #body frame x arrow\n",
    "        x_arrow = rotaion(state_sequence[i,4],np.array([1,0]))\n",
    "        plt.quiver(state_sequence[i,0], state_sequence[i,2], x_arrow[0], x_arrow[1], scale=15, color='red')\n",
    "        #body frame y arrow\n",
    "        y_arrow = rotaion(state_sequence[i,4],np.array([0,1]))\n",
    "        plt.quiver(state_sequence[i,0], state_sequence[i,2], y_arrow[0], y_arrow[1], scale=15, color='blue')\n",
    "        \n",
    "        # plt.xlim([-2, 15])\n",
    "        # plt.ylim([5, 10])\n",
    "        IPython.display.clear_output(wait=True)\n",
    "        display(plt.gcf())\n",
    "        time.sleep(0.01)\n",
    "        plt.clf()  # Clear the current figure"
   ]
  },
  {
   "attachments": {},
   "cell_type": "markdown",
   "metadata": {},
   "source": [
    "### initialize variables"
   ]
  },
  {
   "cell_type": "code",
   "execution_count": 265,
   "metadata": {},
   "outputs": [],
   "source": [
    "#548 sequence\n",
    "#50 k_controls\n",
    "\n",
    "k_controls = np.array([[12.94349588, 12.97691164], \n",
    "       [12.92116354, 12.94490242],\n",
    "       [12.89679699, 12.91398908],\n",
    "       [12.87103051, 12.88351406],\n",
    "       [12.84465181, 12.85266965],\n",
    "       [12.81850192, 12.82059408],\n",
    "       [12.79339224, 12.78645827],\n",
    "       [12.77001642, 12.74955271],\n",
    "       [12.74885155, 12.70938729],\n",
    "       [12.73004465, 12.66580248],\n",
    "       [12.71329318, 12.61908956],\n",
    "       [12.69773434, 12.57009592],\n",
    "       [12.68186434, 12.52029691],\n",
    "       [12.66352302, 12.47180147],\n",
    "       [12.63997233, 12.427266  ],\n",
    "       [12.60810796, 12.38968941],\n",
    "       [12.56481901, 12.36207806],\n",
    "       [12.50749652, 12.34698935],\n",
    "       [12.43464627, 12.34598717],\n",
    "       [12.34652004, 12.35906655],\n",
    "       [12.24561336, 12.38417606],\n",
    "       [12.13688087, 12.41688802],\n",
    "       [12.02756034, 12.4503671 ],\n",
    "       [11.92652716, 12.47570427],\n",
    "       [11.84325934, 12.4827875 ],\n",
    "       [11.78650149, 12.46172228],\n",
    "       [11.76270047, 12.40455777],\n",
    "       [11.77460418, 12.30737214],\n",
    "       [11.81998633, 12.17222878],\n",
    "       [11.8907987 , 12.00857708],\n",
    "       [11.97267514, 11.83319242],\n",
    "       [12.08548669, 11.71521207],\n",
    "       [12.22180289, 11.67918489],\n",
    "       [12.32154746, 11.68221583],\n",
    "       [12.38189322, 11.72436274],\n",
    "       [12.40662854, 11.80053552],\n",
    "       [12.40438442, 11.90243045],\n",
    "       [12.3863155 , 12.02027938],\n",
    "       [12.3638027 , 12.14432001],\n",
    "       [12.34661088, 12.26597365],\n",
    "       [12.34176122, 12.37869427],\n",
    "       [12.35316205, 12.47843004],\n",
    "       [12.38187299, 12.56365004],\n",
    "       [12.42678805, 12.63496466],\n",
    "       [12.48550532, 12.69444487],\n",
    "       [12.55519262, 12.74479798],\n",
    "       [12.63332968, 12.78857542],\n",
    "       [12.71824494, 12.82754857],\n",
    "       [12.80940457, 12.86235206],\n",
    "       [12.9073966 , 12.8924723 ]])\n",
    "k_dt = 0.17069465800865732\n",
    "# k_dt = 0.1\n",
    "#k_controls, x0\n",
    "k_N = len(k_controls)"
   ]
  },
  {
   "cell_type": "code",
   "execution_count": 310,
   "metadata": {},
   "outputs": [],
   "source": [
    "N = 200\n",
    "dt = 0.1\n",
    "\n",
    "np.random.seed(1)\n",
    "control_sequence = np.random.normal(20,0.1,(N,2))\n",
    "\n",
    "\n",
    "x0 = np.array([0,0,5,0,0,0])  #mu = x0\n",
    "sigma = np.eye(6)*0.00001\n",
    "Q = np.eye(6)*0.0001\n",
    "R = np.eye(3)*0.0001\n",
    "H = np.array([[1,0,0,0,0,0],   #x_pos\n",
    "              [0,0,1,0,0,0],   #y_pos\n",
    "              [0,0,0,0,1,0]])  #psi\n"
   ]
  },
  {
   "cell_type": "code",
   "execution_count": 304,
   "metadata": {},
   "outputs": [
    {
     "data": {
      "image/png": "[encoded data removed]",
      "text/plain": [
       "<Figure size 640x480 with 1 Axes>"
      ]
     },
     "metadata": {},
     "output_type": "display_data"
    },
    {
     "data": {
      "text/plain": [
       "<Figure size 640x480 with 0 Axes>"
      ]
     },
     "metadata": {},
     "output_type": "display_data"
    }
   ],
   "source": [
    "det_states = generate_deterministic_states_and_measurement(k_N,H,k_dt,x0,k_controls)[0]\n",
    "dist_states = add_gaussian_noise(det_states.copy(),np.zeros(6),Q)\n",
    "\n",
    "plot_traj(det_states)\n",
    "# plot_traj(dist_states)"
   ]
  },
  {
   "cell_type": "code",
   "execution_count": 311,
   "metadata": {},
   "outputs": [
    {
     "data": {
      "text/plain": [
       "[<matplotlib.lines.Line2D at 0x7fdcbbeee550>]"
      ]
     },
     "execution_count": 311,
     "metadata": {},
     "output_type": "execute_result"
    },
    {
     "data": {
      "image/png": "[encoded data removed]",
      "text/plain": [
       "<Figure size 640x480 with 1 Axes>"
      ]
     },
     "metadata": {},
     "output_type": "display_data"
    }
   ],
   "source": [
    "extended = EKF(k_controls,x0,sigma,Q,H,R,k_N,k_dt)\n",
    "\n",
    "state_hat = extended[0]  \n",
    "state = extended[1]\n",
    "\n",
    "# plot_traj(state_hat)\n",
    "plt.plot(state_hat[:,0],state_hat[:,2])\n",
    "# plt.plot(state[:,0],state[:,2])"
   ]
  },
  {
   "cell_type": "code",
   "execution_count": 309,
   "metadata": {},
   "outputs": [
    {
     "data": {
      "text/plain": [
       "[<matplotlib.lines.Line2D at 0x7fdcbbd69070>]"
      ]
     },
     "execution_count": 309,
     "metadata": {},
     "output_type": "execute_result"
    },
    {
     "data": {
      "image/png": "[encoded data removed]",
      "text/plain": [
       "<Figure size 640x480 with 1 Axes>"
      ]
     },
     "metadata": {},
     "output_type": "display_data"
    }
   ],
   "source": [
    "plt.plot(state[:,0],state[:,2])"
   ]
  },
  {
   "cell_type": "code",
   "execution_count": null,
   "metadata": {},
   "outputs": [],
   "source": []
  }
 ],
 "metadata": {
  "kernelspec": {
   "display_name": "base",
   "language": "python",
   "name": "python3"
  },
  "language_info": {
   "codemirror_mode": {
    "name": "ipython",
    "version": 3
   },
   "file_extension": ".py",
   "mimetype": "text/x-python",
   "name": "python",
   "nbconvert_exporter": "python",
   "pygments_lexer": "ipython3",
   "version": "3.9.13"
  },
  "orig_nbformat": 4
 },
 "nbformat": 4,
 "nbformat_minor": 2
}
